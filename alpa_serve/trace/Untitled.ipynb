{
 "cells": [
  {
   "cell_type": "code",
   "execution_count": 2,
   "id": "91c88498",
   "metadata": {},
   "outputs": [
    {
     "name": "stderr",
     "output_type": "stream",
     "text": [
      "/usr/local/lib/python3.8/dist-packages/tqdm/auto.py:22: TqdmWarning: IProgress not found. Please update jupyter and ipywidgets. See https://ipywidgets.readthedocs.io/en/stable/user_install.html\n",
      "  from .autonotebook import tqdm as notebook_tqdm\n",
      "2024-01-20 21:47:25,179\tINFO util.py:159 -- Missing packages: ['ipywidgets']. Run `pip install -U ipywidgets`, then restart the notebook server for rich notebook output.\n"
     ]
    }
   ],
   "source": [
    "from alpa_serve.trace import Trace, TraceReplay, report_group_stats\n",
    "from scipy.stats import entropy\n",
    "import numpy as np\n",
    "import time\n",
    "import queue\n",
    "import threading\n",
    "from alpa_serve.simulator.workload import Workload, GammaProcess, UniformMMPP\n",
    "trace_name = \"azure_v2\"\n",
    "trace_dir = \"../azure_v2.pkl\""
   ]
  },
  {
   "cell_type": "code",
   "execution_count": 3,
   "id": "3056e726",
   "metadata": {},
   "outputs": [
    {
     "name": "stdout",
     "output_type": "stream",
     "text": [
      "Reading takes: 0.02273392677307129s.\n"
     ]
    }
   ],
   "source": [
    "trace = Trace(trace_name, trace_dir)"
   ]
  },
  {
   "cell_type": "code",
   "execution_count": 4,
   "id": "f47eea31",
   "metadata": {},
   "outputs": [
    {
     "name": "stdout",
     "output_type": "stream",
     "text": [
      "Sliced trace stats: #functions: 424, total invocations: 93988, max: 26116, min: 0, avg: 221.67\n",
      "5 144\n"
     ]
    }
   ],
   "source": [
    "n_model = 5\n",
    "models = [f\"gpt{i}\" for i in range(n_model)]\n",
    "train_start = \"13.0.0\"\n",
    "train_end = \"13.23.60\"\n",
    "# replays = trace.replay_vanilla(models,\n",
    "#                                model_mapping_strategy=\"stripe\",\n",
    "#                                start_time=\"0.0.0\",\n",
    "#                                end_time=\"1.0.0\")\n",
    "replays = trace.replay(models,\n",
    "                               model_mapping_strategy=\"stripe\",\n",
    "                               arrival_distribution=\"gamma\",\n",
    "                              start_time=train_start,\n",
    "                              end_time=train_end,\n",
    "                              interval_seconds=5400)"
   ]
  },
  {
   "cell_type": "code",
   "execution_count": 5,
   "id": "62a16c66",
   "metadata": {},
   "outputs": [],
   "source": [
    "ws = []\n",
    "model_name = 'gpt0'\n",
    "slo_scale = 1\n",
    "single_latency = 1000\n",
    "num_models = 1\n",
    "slos = [slo_scale * single_latency] * num_models\n",
    "ws.append(replays[model_name].to_workload(slos[0]))\n",
    "workload = Workload.merge(*ws)\n",
    "input_ = \"Paris is the capital city of\"\n",
    "args = [(input_, workload.requests[i].model_name,\n",
    "                 workload.requests[i].slo, float(workload.arrivals[i]),\n",
    "                 i) for i in range(len((workload)))]"
   ]
  },
  {
   "cell_type": "code",
   "execution_count": null,
   "id": "5dc81c36",
   "metadata": {},
   "outputs": [],
   "source": [
    "submit_queue = queue.Queue()\n",
    "num_submit_threads = 4\n",
    "submit_threads = [\n",
    "    threading.Thread(\n",
    "        target=submit_worker_func, args=(submit_queue)\n",
    "    ) for _ in range(num_submit_threads)\n",
    "]\n",
    "for t in submit_threads:\n",
    "    t.start()\n",
    "def submit_request(*args):\n",
    "    submit_queue.put_nowait(args)\n",
    "def synchronize():\n",
    "    submit_queue.join()\n",
    "\n",
    "def close_copy_threads():\n",
    "    for _ in range(len(submit_threads)):\n",
    "        submit_queue.put_nowait(None)\n",
    "    for t in submit_threads:\n",
    "        t.join()\n",
    "    submit_queue.join()\n",
    "    submit_queue = None\n",
    "def submit_worker_func(queue):\n",
    "    while True:\n",
    "        item = queue.get()\n",
    "        if item is None:\n",
    "            queue.task_done()\n",
    "            return\n",
    "        # do sth\n",
    "        queue.task_done()\n",
    "    "
   ]
  },
  {
   "cell_type": "code",
   "execution_count": 10,
   "id": "7b6ed39d",
   "metadata": {},
   "outputs": [
    {
     "name": "stdout",
     "output_type": "stream",
     "text": [
      "1.0011398792266846\n",
      "1.001917839050293\n",
      "1.0011990070343018\n",
      "1.001037836074829\n"
     ]
    },
    {
     "ename": "KeyboardInterrupt",
     "evalue": "",
     "output_type": "error",
     "traceback": [
      "\u001b[0;31m---------------------------------------------------------------------------\u001b[0m",
      "\u001b[0;31mKeyboardInterrupt\u001b[0m                         Traceback (most recent call last)",
      "Cell \u001b[0;32mIn[10], line 5\u001b[0m\n\u001b[1;32m      3\u001b[0m \u001b[38;5;28;01mfor\u001b[39;00m i \u001b[38;5;129;01min\u001b[39;00m \u001b[38;5;28mrange\u001b[39m(\u001b[38;5;28mlen\u001b[39m((workload))):\n\u001b[1;32m      4\u001b[0m     start \u001b[38;5;241m=\u001b[39m  time\u001b[38;5;241m.\u001b[39mtime() \u001b[38;5;241m+\u001b[39m \u001b[38;5;28mfloat\u001b[39m(workload\u001b[38;5;241m.\u001b[39marrivals[i]) \u001b[38;5;241m-\u001b[39m \u001b[38;5;241m1123200\u001b[39m\n\u001b[0;32m----> 5\u001b[0m     \u001b[38;5;28;01mwhile\u001b[39;00m time\u001b[38;5;241m.\u001b[39mtime() \u001b[38;5;241m<\u001b[39m \u001b[43mstart\u001b[49m:\n\u001b[1;32m      6\u001b[0m         \u001b[38;5;28;01mpass\u001b[39;00m\n\u001b[1;32m      7\u001b[0m     time\u001b[38;5;241m.\u001b[39msleep(\u001b[38;5;241m1\u001b[39m)\n",
      "\u001b[0;31mKeyboardInterrupt\u001b[0m: "
     ]
    }
   ],
   "source": [
    "# float(workload.arrivals[i])\n",
    "# 仿照submit_one(arg):\n",
    "for i in range(len((workload))):\n",
    "    start =  time.time() + float(workload.arrivals[i]) - 1123200\n",
    "    while time.time() < start:\n",
    "        pass\n",
    "    time.sleep(1) # submit \n",
    "    end = time.time()\n",
    "    e2e_latency = end - start\n",
    "    print(e2e_latency)"
   ]
  },
  {
   "cell_type": "code",
   "execution_count": 13,
   "id": "d23169c5",
   "metadata": {},
   "outputs": [
    {
     "data": {
      "text/plain": [
       "86370.18783562398"
      ]
     },
     "execution_count": 13,
     "metadata": {},
     "output_type": "execute_result"
    }
   ],
   "source": [
    "(float(workload.arrivals[-1]) - float(workload.arrivals[0]))"
   ]
  },
  {
   "cell_type": "code",
   "execution_count": 15,
   "id": "9f0279c5",
   "metadata": {},
   "outputs": [
    {
     "data": {
      "text/plain": [
       "11399"
      ]
     },
     "execution_count": 15,
     "metadata": {},
     "output_type": "execute_result"
    }
   ],
   "source": [
    "len(workload.arrivals)"
   ]
  },
  {
   "cell_type": "code",
   "execution_count": null,
   "id": "664d429d",
   "metadata": {},
   "outputs": [],
   "source": [
    "train_workload.requests[0].model_name"
   ]
  },
  {
   "cell_type": "code",
   "execution_count": null,
   "id": "80056c2c",
   "metadata": {},
   "outputs": [],
   "source": [
    "[slo_scale * single_latency] * 2"
   ]
  },
  {
   "cell_type": "code",
   "execution_count": null,
   "id": "1d068238",
   "metadata": {},
   "outputs": [],
   "source": [
    "replays['gpt0'].report_stats()\n",
    "replays['gpt0'].visualize()"
   ]
  },
  {
   "cell_type": "code",
   "execution_count": null,
   "id": "8c725756",
   "metadata": {},
   "outputs": [],
   "source": [
    "replays['gpt0'].arrivals"
   ]
  },
  {
   "cell_type": "code",
   "execution_count": null,
   "id": "4c8ea0cf",
   "metadata": {},
   "outputs": [],
   "source": [
    "replays = trace.replay(models,\n",
    "                       model_mapping_strategy=\"stripe\",\n",
    "                       start_time=\"0.0.0\",\n",
    "                       end_time=\"5.0.0\",\n",
    "                       arrival_distribution=\"exponential\",\n",
    "                       interval_seconds=3600)"
   ]
  },
  {
   "cell_type": "code",
   "execution_count": 1,
   "id": "087d5f42",
   "metadata": {},
   "outputs": [
    {
     "data": {
      "text/plain": [
       "('xxx', 'xxx')"
      ]
     },
     "execution_count": 1,
     "metadata": {},
     "output_type": "execute_result"
    }
   ],
   "source": [
    "('xxx',) * 2"
   ]
  },
  {
   "cell_type": "code",
   "execution_count": 2,
   "id": "f420386e",
   "metadata": {},
   "outputs": [
    {
     "name": "stdout",
     "output_type": "stream",
     "text": [
      "12\n",
      "13\n",
      "14\n",
      "15\n",
      "16\n",
      "17\n",
      "18\n",
      "19\n",
      "20\n",
      "21\n",
      "22\n"
     ]
    }
   ],
   "source": [
    "for block_index in range(12, 23):\n",
    "    print(block_index)"
   ]
  },
  {
   "cell_type": "code",
   "execution_count": null,
   "id": "b1d29c15",
   "metadata": {},
   "outputs": [],
   "source": []
  }
 ],
 "metadata": {
  "kernelspec": {
   "display_name": "Python 3 (ipykernel)",
   "language": "python",
   "name": "python3"
  },
  "language_info": {
   "codemirror_mode": {
    "name": "ipython",
    "version": 3
   },
   "file_extension": ".py",
   "mimetype": "text/x-python",
   "name": "python",
   "nbconvert_exporter": "python",
   "pygments_lexer": "ipython3",
   "version": "3.8.10"
  }
 },
 "nbformat": 4,
 "nbformat_minor": 5
}
