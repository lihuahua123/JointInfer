{
 "cells": [
  {
   "cell_type": "code",
   "execution_count": 2,
   "id": "bc6622f0",
   "metadata": {},
   "outputs": [
    {
     "ename": "NameError",
     "evalue": "name 'dataclass' is not defined",
     "output_type": "error",
     "traceback": [
      "\u001b[0;31m---------------------------------------------------------------------------\u001b[0m",
      "\u001b[0;31mNameError\u001b[0m                                 Traceback (most recent call last)",
      "Cell \u001b[0;32mIn[2], line 3\u001b[0m\n\u001b[1;32m      1\u001b[0m \u001b[38;5;28;01mimport\u001b[39;00m \u001b[38;5;21;01mstruct\u001b[39;00m\n\u001b[0;32m----> 3\u001b[0m \u001b[38;5;129m@dataclass\u001b[39m\n\u001b[1;32m      4\u001b[0m \u001b[38;5;28;01mclass\u001b[39;00m \u001b[38;5;21;01mpa\u001b[39;00m:\n\u001b[1;32m      5\u001b[0m     head_ip: \u001b[38;5;28mstr\u001b[39m\n\u001b[1;32m      6\u001b[0m     port : \u001b[38;5;28mint\u001b[39m\n",
      "\u001b[0;31mNameError\u001b[0m: name 'dataclass' is not defined"
     ]
    }
   ],
   "source": [
    "import struct\n",
    "\n",
    "@dataclass\n",
    "class pa:\n",
    "    head_ip: str # str(len('192.168.249.123')) = 15\n",
    "    port : int\n",
    "    word_size : int\n",
    "    rank : int\n",
    "    tp : int\n",
    "    pp : int\n",
    "    start_id : int\n",
    "    pipeline_stage_size: int\n",
    "    wg : float\n",
    "    wc : float\n",
    "    cg : float\n",
    "    cc : float\n",
    "#     tensor_ranks : List[int]\n",
    "#     piprline_ranks : List[int]\n",
    "    def __init__(self, head_ip,port,word_size,rank,tp,pp,start_id,pipeline_stage_size,\n",
    "                wg,wc,cg,cc):  \n",
    "        self.head_ip = head_ip\n",
    "        self.port = port\n",
    "        self.word_size = word_size\n",
    "        self.rank = rank\n",
    "        self.tp = tp\n",
    "        self.pp = pp\n",
    "        self.start_id = start_id\n",
    "        self.pipeline_stage_size = pipeline_stage_size\n",
    "        self.wg = wg\n",
    "        self.wc = wc\n",
    "        self.cg = cg\n",
    "        self.cc = cc\n",
    "        \n",
    "    def pack(self):\n",
    "        return struct.pack('15s7i4f', self.head_ip,self.port,self.word_size,self.rank,self.tp,self.pp,self.start_id,self.pipeline_stage_size,\n",
    "                          self.wg,self.wc,self.cg,self.cc)\n",
    "\n",
    "    def unpack(self, data):\n",
    "        header_size = 8 #four one-byte bools and one four-byte int\n",
    "        return struct.unpack('????i' + str(len(data)-header_size) + 's', data)\n",
    "    \n",
    "    \n",
    "    "
   ]
  },
  {
   "cell_type": "code",
   "execution_count": 9,
   "id": "bfd423f9",
   "metadata": {},
   "outputs": [
    {
     "ename": "NameError",
     "evalue": "name 'sizeof' is not defined",
     "output_type": "error",
     "traceback": [
      "\u001b[0;31m---------------------------------------------------------------------------\u001b[0m",
      "\u001b[0;31mNameError\u001b[0m                                 Traceback (most recent call last)",
      "Cell \u001b[0;32mIn[9], line 1\u001b[0m\n\u001b[0;32m----> 1\u001b[0m \u001b[43msizeof\u001b[49m(\u001b[38;5;241m123\u001b[39m)\n",
      "\u001b[0;31mNameError\u001b[0m: name 'sizeof' is not defined"
     ]
    }
   ],
   "source": []
  },
  {
   "cell_type": "code",
   "execution_count": 4,
   "id": "733a3e2c",
   "metadata": {},
   "outputs": [
    {
     "name": "stdout",
     "output_type": "stream",
     "text": [
      "b'\\x01\\x01\\x01\\x00\\xf9\\x00\\x00\\x00Hello'\n",
      "(True, True, True, False, 249, b'Hello')\n"
     ]
    }
   ],
   "source": [
    "class _packet:\n",
    "\n",
    "    def __init__(self, payload):  \n",
    "        self.version = 1\n",
    "        self.syn = False\n",
    "        self.fin = False\n",
    "        self.reset = False\n",
    "        self.hasOpt = False\n",
    "        self.ack = 0\n",
    "        self.payload = payload\n",
    "        return\n",
    "\n",
    "    def pack(self):\n",
    "        return struct.pack('????i' + str(len(self.payload)) + 's', self.syn, self.fin, self.reset, self.hasOpt,self.ack, bytes(self.payload, 'utf-8'))\n",
    "\n",
    "    def unpack(self, data):\n",
    "        header_size = 8 #four one-byte bools and one four-byte int\n",
    "        return struct.unpack('????i' + str(len(data)-header_size) + 's', data)\n",
    "\n",
    "packet = _packet(\"Hello\")\n",
    "packet.ack = 249\n",
    "packet.syn = True\n",
    "packet.fin = True\n",
    "packet.reset = True\n",
    "packedData = packet.pack()\n",
    "print(packedData)\n",
    "unpackedData = packet.unpack(packedData)\n",
    "print(unpackedData)"
   ]
  },
  {
   "cell_type": "code",
   "execution_count": null,
   "id": "a155e667",
   "metadata": {},
   "outputs": [],
   "source": []
  }
 ],
 "metadata": {
  "kernelspec": {
   "display_name": "Python 3 (ipykernel)",
   "language": "python",
   "name": "python3"
  },
  "language_info": {
   "codemirror_mode": {
    "name": "ipython",
    "version": 3
   },
   "file_extension": ".py",
   "mimetype": "text/x-python",
   "name": "python",
   "nbconvert_exporter": "python",
   "pygments_lexer": "ipython3",
   "version": "3.8.10"
  }
 },
 "nbformat": 4,
 "nbformat_minor": 5
}
